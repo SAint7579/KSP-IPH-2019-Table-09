{
 "cells": [
  {
   "cell_type": "code",
   "execution_count": 1,
   "metadata": {
    "collapsed": true
   },
   "outputs": [],
   "source": [
    "from helper_functions import *\n",
    "from friend_scraping import *\n",
    "from instagram_followers import *"
   ]
  },
  {
   "cell_type": "markdown",
   "metadata": {},
   "source": [
    "## Facebook "
   ]
  },
  {
   "cell_type": "markdown",
   "metadata": {},
   "source": [
    "### Finding profile with BruteForce"
   ]
  },
  {
   "cell_type": "code",
   "execution_count": 2,
   "metadata": {},
   "outputs": [
    {
     "name": "stdout",
     "output_type": "stream",
     "text": [
      "Siddharth Mahajan https://www.facebook.com/siddharth.mahajan.79?ref=br_rs\n",
      "Siddharth Mahajan https://www.facebook.com/siddharth.mahajan.3388?ref=br_rs\n",
      "Siddharth Mahajan https://www.facebook.com/sid4484?ref=br_rs\n",
      "Siddharth Mahajan https://www.facebook.com/siddharth.mahajan.944?ref=br_rs\n",
      "Siddharth Mahajan https://www.facebook.com/drm.mahajan.14?ref=br_rs\n",
      "Siddharth Mahajan https://www.facebook.com/Siddharthmahajan123?ref=br_rs\n",
      "Siddharth Mahajan https://www.facebook.com/siddharth.mahajan.560?ref=br_rs\n",
      "Siddharth Mahajan https://www.facebook.com/siddharth.mahajan.90?ref=br_rs\n",
      "Siddharth Mahajan https://www.facebook.com/siddharth.mahajan.146?ref=br_rs\n",
      "Siddharth Mahajan https://www.facebook.com/kunal.jadhav.372019?ref=br_rs\n",
      "Siddharth Mahajan https://www.facebook.com/profile.php?id=100034234658106&amp;ref=br_rs\n",
      "Siddharth Mahajan https://www.facebook.com/harshal.mali.984?ref=br_rs\n",
      "Siddharth Mahajan https://www.facebook.com/siddharth.mahajan.7503?ref=br_rs\n"
     ]
    }
   ],
   "source": [
    "for Name,links in get_links(\"Siddharth Mahajan\"):\n",
    "    print(Name,links)"
   ]
  },
  {
   "cell_type": "code",
   "execution_count": 3,
   "metadata": {
    "scrolled": false
   },
   "outputs": [
    {
     "name": "stdout",
     "output_type": "stream",
     "text": [
      "Logging in....\n",
      "Logged in....\n",
      "Fetching profile  1\n",
      "Fetching profile  2\n",
      "Fetching profile  3\n",
      "Fetching profile  4\n",
      "Fetching profile  5\n"
     ]
    },
    {
     "data": {
      "text/plain": [
       "[('https://www.facebook.com/tejas.bhadane.902?ref=br_rs', 'Screenshot/1.png'),\n",
       " ('https://www.facebook.com/tejas.bhadane?ref=br_rs', 'Screenshot/2.png'),\n",
       " ('https://www.facebook.com/tejas.bhadane.07?ref=br_rs', 'Screenshot/3.png'),\n",
       " ('https://www.facebook.com/profile.php?id=100009219665129&amp;ref=br_rs',\n",
       "  'Screenshot/4.png'),\n",
       " ('https://www.facebook.com/tejas.bhadane.399?ref=br_rs', 'Screenshot/5.png')]"
      ]
     },
     "execution_count": 3,
     "metadata": {},
     "output_type": "execute_result"
    }
   ],
   "source": [
    "fetch_screen(\"Siddharth Mahajan\")"
   ]
  },
  {
   "cell_type": "markdown",
   "metadata": {},
   "source": [
    "### Facebook Info gathering"
   ]
  },
  {
   "cell_type": "code",
   "execution_count": 33,
   "metadata": {},
   "outputs": [
    {
     "name": "stdout",
     "output_type": "stream",
     "text": [
      "Opening Browser...\n",
      "Logging in vishwa20@outlook.com automatically...\n",
      "Scrolling to bottom...\n",
      "Friends/friends.html) Downloaded\n",
      "\n",
      "\n",
      "*****USER BIO*****\n",
      "\n",
      "\n",
      "Username: siddharth.mahajan.79\n",
      "NAME : Siddharth Mahajan\n",
      "PHOTO_URL : https://scontent.fhyd12-1.fna.fbcdn.net/v/t1.0-1/cp0/e15/q65/c0.0.74.74a/p74x74/50047032_2267573016832285_427191015061848064_o.jpg?_nc_cat=101&efg=eyJpIjoiYiJ9&_nc_oc=AQk2BRau_Ft6atFsDyYdmLxSn9Vc1C7xFlCFxsWR5_wdoAZjrYDEORMwp_BmPiwKf9g&_nc_ht=scontent.fhyd12-1.fna&oh=e6fd3417c81c959460f798e4af288ff2&oe=5E4A186E\n",
      "TAGLINE : The BIG Bang Theory FAN 🔥🔥 , CAMILA CABELLO FAN 🔥🔥, MALUMA FAN🔥🔥!!\n",
      "..LIFE IS A GARDEN, DIG IT!!\n",
      "REL : Single\n",
      "DETAILS : \n",
      "\t CURRENT CITY : Jammu\n",
      "\t MOVED IN 2010 : Mumbai, Maharashtra\n",
      "\t HOME TOWN : Jammu\n",
      "\t FACEBOOK : /siddharth.mahajan.79\n",
      "\t BIRTHDAY : 24 March 1999\n",
      "\t GENDER : Male\n",
      "WORK : \n",
      "\t LINK : mbasic.facebook.com\n",
      "\t ORG : MIT World Peace University\n",
      "\t LINES : ['Studying', '22 July 2017 - Present', 'Pune, Maharashtra']\n",
      "\t LINK : mbasic.facebook.com\n",
      "\t ORG : jodhamal public school,jammu\n",
      "\t LINES : ['Student', '12 April 2005 - Present']\n",
      "EDUCATION : \n",
      "\t LINK : mbasic.facebook.com\n",
      "\t ORG : jodhamal public school\n",
      "\t LINES : ['High School']\n",
      "\t LINK : mbasic.facebook.com\n",
      "\t ORG : S.P. Smart Hr. Sec. School ; Kachi Chawni Jammu\n",
      "\t LINES : ['High School', 'March 2015 - 2018']\n",
      "FAMILY : \n",
      "\t NAME : Tanvi Gupta Sethi\n",
      "\t REL : Cousin\n",
      "\t ALIAS : mbasic.facebook.com/tanvi.gupta.7927\n",
      "LIFE_EVENTS : \n",
      "\t YEAR : 2018\n",
      "\t TITLE : Left S.P. Smart Hr. Sec. School ; Kachi Chawni Jammu\n",
      "\t LINK : mbasic.facebook.com/siddharth.mahajan.79/timeline/story?ut=32&wstart=-2051193600&wend=2147483647&hash=1660285380894388&pagefilter=3\n",
      "\t YEAR : 2017\n",
      "\t TITLE : Started new job at MIT World Peace University\n",
      "\t LINK : mbasic.facebook.com/siddharth.mahajan.79/timeline/story?ut=32&wstart=-2051193600&wend=2147483647&hash=2201172400139014&pagefilter=3&ustart=1\n",
      "\t YEAR : 2015\n",
      "\t TITLE : Started studying at S.P. Smart Hr. Sec. School ; Kachi Chawni Jammu\n",
      "\t LINK : mbasic.facebook.com/siddharth.mahajan.79/timeline/story?ut=32&wstart=-2051193600&wend=2147483647&hash=1660285380894388&pagefilter=3&ustart=1\n",
      "\t YEAR : 2010\n",
      "\t TITLE : Moved to Mumbai, Maharashtra\n",
      "\t LINK : mbasic.facebook.com/100007388262849/posts/1429542737301988/\n",
      "\t YEAR : 2008\n",
      "\t TITLE : Travelled to Washington D.C.\n",
      "\t LINK : mbasic.facebook.com/100007388262849/posts/1429542593968669/\n",
      "\t YEAR : 2007\n",
      "\t TITLE : First flight\n",
      "\t LINK : mbasic.facebook.com/100007388262849/posts/1511561509100110/\n",
      "\t YEAR : 2005\n",
      "\t TITLE : Started new job at jodhamal public school,jammu\n",
      "\t LINK : mbasic.facebook.com/siddharth.mahajan.79/timeline/story?ut=32&wstart=-2051193600&wend=2147483647&hash=1429538323969096&pagefilter=3&ustart=1\n",
      "\n",
      "\n",
      "*****FRIEND LIST*****\n",
      "\n",
      "\n",
      "Yashika Gupta   https://www.facebook.com/yashika.gupta.718\n",
      "Shreya Gangula   https://www.facebook.com/uugghh.1234\n",
      "Utkarsh Mishra   https://www.facebook.com/utkarsh.mishra.vw\n",
      "Sanket Dumbare   https://www.facebook.com/Sanket.Dumbare10\n",
      "Saket Padmanabhi   https://www.facebook.com/saket.padmanabhi\n",
      "Yadnesh Talokar   https://www.facebook.com/yadnesh.talokar.5\n",
      "Viraj Pandit   https://www.facebook.com/viraj.pandit.566\n",
      "Vedant Patil Choudhari   https://www.facebook.com/vedant.choudhari.9\n",
      "Vivek Ray   https://www.facebook.com/vivek.ray.92351\n",
      "Yogesh Khubchandani   https://www.facebook.com/profile.php?id=100009699842313\n",
      "Yash Kalaria   https://www.facebook.com/yash.kalaria\n",
      "Yash Damania   https://www.facebook.com/yash.damania.92\n",
      "Uday More   https://www.facebook.com/uday.more.965\n",
      "Omprakash Gadewar   https://www.facebook.com/omprakash.gadewar.9\n",
      "Sugandh Kumar   https://www.facebook.com/sugandh.kumar.395669\n",
      "Siddhi Bansore   https://www.facebook.com/profile.php?id=100009308523710\n",
      "Alok Bhawankar   https://www.facebook.com/alok.bhawankar\n",
      "Piyush Mishra   https://www.facebook.com/piyush.mishra.1999\n",
      "Yash Channe   https://www.facebook.com/yash.channe.5\n",
      "Omkar More   https://www.facebook.com/omkar.more.12139\n",
      "Yash Khivasara   https://www.facebook.com/yash.khivasra\n",
      "Suyash Ladda   https://www.facebook.com/suyash.ladda\n",
      "Shonil Bhide   https://www.facebook.com/shonil.bhide\n",
      "Nishchal Manoj Bafna   https://www.facebook.com/nishchal.bafna\n",
      "Prathamesh Ingale   https://www.facebook.com/prathamesh.ingale.90\n",
      "Tanvi Gandhi   https://www.facebook.com/tanvi.gandhi.520\n",
      "Priya Bannur   https://www.facebook.com/profile.php?id=100009464583186\n",
      "R\\xc3\\xb6h\\xc3\\xadt R\\xc3\\xa3j   https://www.facebook.com/iamrj17\n",
      "Tejas Bansal   https://www.facebook.com/tejas.bansal.10\n",
      "Karthik Jain   https://www.facebook.com/karthik.jain.92754\n",
      "Nikhil Ujjwal   https://www.facebook.com/nikhil.ujjwal.520\n",
      "Piyush Bartakke   https://www.facebook.com/piyush.bartakke.56\n",
      "Neel Khalade   https://www.facebook.com/NeelKhalade\n",
      "Siddharth Gupta   https://www.facebook.com/siddharth.gupta.5473\n",
      "Anirudh Grover   https://www.facebook.com/anirudh.grover.1\n",
      "Sarang Nikhare   https://www.facebook.com/sarang.nikhare\n",
      "Pranav Bakre   https://www.facebook.com/profile.php?id=100007829508856\n",
      "Shifani Ram   https://www.facebook.com/shifani.ram.99\n",
      "Atharva Gite   https://www.facebook.com/atharva.gite\n",
      "Gursimar Bagga   https://www.facebook.com/gursimar.bagga\n",
      "Anurag Baswa   https://www.facebook.com/anurag.baswa\n",
      "Shreyanshi Tripathi   https://www.facebook.com/shreyanshi.tripathi\n",
      "Tushar Chaudhari   https://www.facebook.com/tushar.chaudhari.520125\n",
      "Sudesh Kamble   https://www.facebook.com/sudesh.kamble.148\n",
      "Rutuja Bhandigani   https://www.facebook.com/rutuja.bhandigani.3\n",
      "Shweta Mahajan   https://www.facebook.com/shweta.swapnil.chaudhari\n",
      "Devesh Bhogre   https://www.facebook.com/devesh.bhogre\n",
      "Sayan Bhattacharyya   https://www.facebook.com/sayan.bhattacharyya.3154\n",
      "Sakshi Baheti   https://www.facebook.com/profile.php?id=100009694563327\n",
      "Bharat Bhattad   https://www.facebook.com/bharat.bhattad.988\n",
      "Dev Bakliwal   https://www.facebook.com/dev.bakliwal.3\n",
      "Ashrant Bharti   https://www.facebook.com/IamAshrant\n",
      "Mayur Ahirrao   https://www.facebook.com/profile.php?id=100006037362582\n",
      "Samadhan Mohite   https://www.facebook.com/samadhan.mohite.77312\n",
      "Atharva Barve   https://www.facebook.com/atharva.barve.7\n",
      "Ashutosh Kamble   https://www.facebook.com/ashutosh.kamble.940641\n",
      "Vaibhav Deodhe   https://www.facebook.com/vaibhav.deodhe.33\n",
      "Suhas Anil Pande   https://www.facebook.com/suhasanil.pande\n",
      "Pratiksha Puranik   https://www.facebook.com/profile.php?id=100009214069002\n",
      "Apurva Borase   https://www.facebook.com/apurva.borase\n",
      "Sagar Khandikar   https://www.facebook.com/sagar.khandikar\n",
      "Roshan Patharkar   https://www.facebook.com/roshan.patharkar.5\n",
      "Chirag A Ghube   https://www.facebook.com/chirag.a.ghube\n",
      "Shobhraj Bhangale   https://www.facebook.com/shobhraj.bhangale.5\n",
      "Yash Chaudhari   https://www.facebook.com/profile.php?id=100035403943825\n",
      "Anubhav Datta Gupta   https://www.facebook.com/anubhav.dattagupta\n",
      "Mandar Chaudhari   https://www.facebook.com/mandar.chaudhari.796\n",
      "Tejas Sunil Jadhav   https://www.facebook.com/tejas.jadhav.90475\n",
      "Devansh Gadodia   https://www.facebook.com/devansh.gadodia.1\n",
      "Pauras Ghag   https://www.facebook.com/pauras.ghag\n",
      "Abhishek Patil   https://www.facebook.com/profile.php?id=100012256334816\n",
      "Yash Hatekar   https://www.facebook.com/yashhatekar1997\n",
      "Tejaswi Bhosale   https://www.facebook.com/profile.php?id=100011194531977\n",
      "Yash Jaiswal   https://www.facebook.com/yash.jaiswal.3386\n",
      "Shubham Bagde   https://www.facebook.com/profile.php?id=100008996359245\n",
      "Mangesh Nere   https://www.facebook.com/mangesh.nere.9\n",
      "Ajinkya Gaidhani   https://www.facebook.com/ajinkya.gaidhani.165\n",
      "Vaibhav Bakhal   https://www.facebook.com/vaibhav.bakhal.1\n",
      "Mayur Rajendra Patil   https://www.facebook.com/profile.php?id=100015570541553\n",
      "Nikhil Patil   https://www.facebook.com/nikhilpatil0022\n",
      "Yash Lodha   https://www.facebook.com/aasds.wq\n",
      "Prajwal Bhure   https://www.facebook.com/profile.php?id=100006754999007\n",
      "Saurabh Desale   https://www.facebook.com/saurabh.desale.524\n",
      "Pranav Jadhav   https://www.facebook.com/profile.php?id=100006372814785\n",
      "Tejas Waghmare   https://www.facebook.com/tejas.waghmare.167\n",
      "Vaibhav Jadhav   https://www.facebook.com/profile.php?id=100009700869146\n",
      "Ankush Tajanpure   https://www.facebook.com/ankush.tajanpure.5\n",
      "Keturaj Rajput   https://www.facebook.com/keturaj.rajput.79\n",
      "Tejas Parandekar   https://www.facebook.com/tejas.parandekar\n",
      "Deep Churi   https://www.facebook.com/deep.churi.3\n",
      "Minal Pote   https://www.facebook.com/pote.minal\n",
      "Sanky Pawar   https://www.facebook.com/profile.php?id=100009854737080\n",
      "Sachin Chavan   https://www.facebook.com/profile.php?id=100009566505085\n",
      "Shubham Bhongade   https://www.facebook.com/Shu.Goldilox\n",
      "Vrushali S Deshmukh   https://www.facebook.com/vrushalis.deshmukh.3\n",
      "Mac Farland   https://www.facebook.com/sagar.khandikar.7\n",
      "Vaibhav Pandey   https://www.facebook.com/248vaibhavpandey\n",
      "Sujit Pawar   https://www.facebook.com/profile.php?id=100028030293997\n",
      "Yash Gire   https://www.facebook.com/yash.gire\n",
      "Venkatesh Jamdade   https://www.facebook.com/venkatesh.jamdade\n",
      "Deepak Bhadane   https://www.facebook.com/profile.php?id=100010213395650\n",
      "Vaibhav Sangale   https://www.facebook.com/vaibhav.sangale.9237\n",
      "Narendra Bhadane   https://www.facebook.com/narendra.bhadane\n",
      "Dhiraj Bhadane   https://www.facebook.com/dhiraj.bhadane.77\n",
      "Harshada Bhadane   https://www.facebook.com/harshada.bhadane.1\n",
      "Rohit Bhadane   https://www.facebook.com/rohit.bhadane.12382\n",
      "Sonal Sonawane Saindane   https://www.facebook.com/profile.php?id=100010656885128\n",
      "Amey Bhoi   https://www.facebook.com/s.bhoi5555\n",
      "Kalyani Hiray   https://www.facebook.com/kalyani.hiray.313\n",
      "Dhananjay Saindane   https://www.facebook.com/dhananjay.saindane.9\n",
      "Anil Bhadane   https://www.facebook.com/anil.bhadane.5\n",
      "Rahul Raut   https://www.facebook.com/profile.php?id=100008093133058\n",
      "Shivani Patil   https://www.facebook.com/profile.php?id=100019317348142\n",
      "Shobha Bhadane   https://www.facebook.com/shobha.bhadane.1\n",
      "Sarthak Kawanpure   https://www.facebook.com/sarthak.kawanpure.1\n",
      "Omkar Bairagi   https://www.facebook.com/omkar.bairagi.3\n",
      "Sakshi Belure   https://www.facebook.com/sakshi.belure.9\n",
      "Siddhant Bharia   https://www.facebook.com/siddhant.bharia\n",
      "Vidhi Bhatt   https://www.facebook.com/vidhi.bhatt.5203577\n",
      "Shwetha Nanda   https://www.facebook.com/shwetha.nanda.5\n",
      "Suyog Rajgond   https://www.facebook.com/profile.php?id=100015942015193\n",
      "Shubham Bhongade   https://www.facebook.com/Raayu.batman.sherlock.shu\n",
      "Prajwal Jaware   https://www.facebook.com/prajwal.jaware\n",
      "Bidisha Gupta   https://www.facebook.com/bidisha.gupta.33\n",
      "Sandip Shevkar   https://www.facebook.com/sandip.shevkar.9\n",
      "Suyog Rajgond   https://www.facebook.com/suyog.rajgond.9\n",
      "Rishikesh Sahane   https://www.facebook.com/rishikesh.sahane.7\n",
      "Mangesh Nere   https://www.facebook.com/mangesh.nere\n",
      "Sandesh S Pagar Patil   https://www.facebook.com/sandeshs.pagar\n",
      "Sameeksha Diwan   https://www.facebook.com/sameeksha.diwan.1\n",
      "\\xc5\\x9a\\xc3\\xb8\\xc5\\xaf\\xc5\\x95\\xc4\\x85bh B\\xc4\\x85\\xc4\\xa3\\xc3\\xab   https://www.facebook.com/sourabh.bage.3\n",
      "Chaitanya Bajoria   https://www.facebook.com/chinubajoria20\n",
      "Amarkumar Belkhede   https://www.facebook.com/belkhede.amar\n",
      "Amey Godbole   https://www.facebook.com/amey.godbole.980\n",
      "Suraj Bhakare   https://www.facebook.com/suraj.bhakare.52\n",
      "Sangita Kumat   https://www.facebook.com/sangita.kumat.39\n",
      "Nishant Kshirsagar   https://www.facebook.com/profile.php?id=100008374745788\n",
      "Rashmi Sanghavi   https://www.facebook.com/rashmi.sanghavi.90\n",
      "Dil Se Mumbai   https://www.facebook.com/dilse.mumbhai\n",
      "Dhanashree Bhamare   https://www.facebook.com/dhanshree.bhamare.7\n",
      "Shubham Pandit   https://www.facebook.com/profile.php?id=100023763861348\n",
      "Omkar Nagare   https://www.facebook.com/omkiiii\n",
      "Suyog Rajgond   https://www.facebook.com/profile.php?id=100023918628543\n",
      "Siddhesh Deokar   https://www.facebook.com/siddhesh.deokar.9\n",
      "Dhiraj Takate   https://www.facebook.com/dhiraj.takate.1\n",
      "Yogesh Sonawane   https://www.facebook.com/yogimba\n",
      "Sonali Borse   https://www.facebook.com/sonali.borse.509\n",
      "Chaudhari Sarvesh   https://www.facebook.com/sarvesh.chaudhari.982\n",
      "Pratyush Bhawsar   https://www.facebook.com/pratyushbhawsar.bhawsar\n",
      "Rutuja Sakhare   https://www.facebook.com/rutuja.sakhare.336\n",
      "Tejas Nikam   https://www.facebook.com/tejas.nikam.338211\n",
      "Gaurav Dongare   https://www.facebook.com/gaurav.dongare.737\n",
      "R\\xc3\\xb8h\\xc3\\xaft R\\xc3\\xb8undal   https://www.facebook.com/profile.php?id=100011332774753\n",
      "Pradip Jadhav   https://www.facebook.com/profile.php?id=100009599381933\n",
      "Yash Borade   https://www.facebook.com/yash.borade.794\n",
      "Disha Thakur   https://www.facebook.com/disha.thakur.90260\n",
      "Pruthviraj Porje   https://www.facebook.com/pruthviraj.porje.7\n",
      "Dinesh Kumbhar DK   https://www.facebook.com/dinesh.kumbhar.3760\n",
      "Suraj Ingle   https://www.facebook.com/profile.php?id=100007397566856\n",
      "Gaurav Kate   https://www.facebook.com/gaurav.kate.125\n",
      "Khushbu Parakh   https://www.facebook.com/profile.php?id=100015949338553\n",
      "Sanket Pokar   https://www.facebook.com/sanket.pokar.33\n",
      "Om Bangale   https://www.facebook.com/om.bangale.9\n",
      "Chinu Bajoria   https://www.facebook.com/chinu.bajoria\n",
      "Pratik Metkar   https://www.facebook.com/pratik.metkar\n",
      "Jaydip S. Borase   https://www.facebook.com/jaydeep.borse\n",
      "Omkar Kute   https://www.facebook.com/omkar.kute.144\n",
      "Sandip Shinde   https://www.facebook.com/profile.php?id=100010967701684\n"
     ]
    }
   ],
   "source": [
    "target = \"https://www.facebook.com/siddharth.mahajan.79\"\n",
    "browser = start_browser()\n",
    "sign_in(browser)\n",
    "download_friends(target,browser)\n",
    "\n",
    "\n",
    "print(\"\\n\\n*****USER BIO*****\\n\\n\")\n",
    "\n",
    "get_information(target,browser)\n",
    "print(\"\\n\\n*****FRIEND LIST*****\\n\\n\")\n",
    "for n,l in get_friends():\n",
    "    print(n,\" \",l)\n",
    "browser.close()"
   ]
  },
  {
   "cell_type": "markdown",
   "metadata": {},
   "source": [
    "## Instagram "
   ]
  },
  {
   "cell_type": "markdown",
   "metadata": {},
   "source": [
    "### Scraping followers"
   ]
  },
  {
   "cell_type": "code",
   "execution_count": 11,
   "metadata": {
    "scrolled": true
   },
   "outputs": [
    {
     "name": "stdout",
     "output_type": "stream",
     "text": [
      "***taking screenshot***\n",
      "\n",
      "\n",
      "***Followers***\n",
      "https://www.instagram.com/fighting_beasts/\n",
      "https://www.instagram.com/reet.agarwal.77/\n",
      "https://www.instagram.com/kishor.wagh.1213986/\n",
      "https://www.instagram.com/yash.shekhadar/\n",
      "https://www.instagram.com/parulsana/\n",
      "https://www.instagram.com/haq_se__engineer/\n",
      "https://www.instagram.com/king_praful_999/\n",
      "https://www.instagram.com/bhushanshende/\n",
      "https://www.instagram.com/datascience_geeks/\n",
      "https://www.instagram.com/darshan714/\n",
      "https://www.instagram.com/quotes_official268/\n",
      "https://www.instagram.com/radebaj_rushaya/\n"
     ]
    }
   ],
   "source": [
    "bot = InstagramBot(INSTAID,INSTAPASS)\n",
    "bot.signIn()\n",
    "\n",
    "#Saving screenshots\n",
    "\n",
    "print(\"***taking screenshot***\")\n",
    "bot.screenshot(\"sid1.0\",1)\n",
    "    \n",
    "print(\"\\n\\n***Followers***\")\n",
    "for x in bot.getUserFollowers(\"sid1.0\",10):\n",
    "    print(x)\n",
    "\n",
    "bot.closeBrowser()"
   ]
  },
  {
   "cell_type": "markdown",
   "metadata": {},
   "source": [
    "## Twitter (Followers)"
   ]
  },
  {
   "cell_type": "code",
   "execution_count": 4,
   "metadata": {
    "collapsed": true
   },
   "outputs": [],
   "source": [
    "from twitter import *\n",
    "import requests\n",
    "import os\n",
    "import re\n",
    "import json\n",
    "from bs4 import BeautifulSoup\n",
    "from urllib.parse import quote,unquote\n",
    "from html import unescape\n",
    "twitter_consumer_key = APPROPRIATE_TWITTER_KEYS\n",
    "twitter_consumer_secret = APPROPRIATE_TWITTER_KEYS\n",
    "twitter_access_token = APPROPRIATE_TWITTER_KEYS\n",
    "twitter_access_secret = APPROPRIATE_TWITTER_KEYS"
   ]
  },
  {
   "cell_type": "code",
   "execution_count": 5,
   "metadata": {},
   "outputs": [
    {
     "data": {
      "text/plain": [
       "'With each passing month the Modi Minar races upwards at a breathtaking pace; a monument dedicated to incompetence.…'"
      ]
     },
     "execution_count": 5,
     "metadata": {},
     "output_type": "execute_result"
    }
   ],
   "source": [
    "tpi=Twitter(auth=OAuth(twitter_access_token,twitter_access_secret,twitter_consumer_key,twitter_consumer_secret))\n",
    "res=tpi.statuses.user_timeline(screen_name=\"RahulGandhi\",count=50)\n",
    "query=res[10]['text'][:-24]\n",
    "query"
   ]
  },
  {
   "cell_type": "markdown",
   "metadata": {},
   "source": [
    "### Finding common followers and friends"
   ]
  },
  {
   "cell_type": "code",
   "execution_count": 9,
   "metadata": {},
   "outputs": [
    {
     "name": "stdout",
     "output_type": "stream",
     "text": [
      "Prafull11802\n",
      "Siddharth Mahajan\n",
      "Vignesh Iyer\n",
      "Jayesh Pawar\n",
      "Sujitpawar\n",
      "SHRIKANT R KADAM\n",
      "Sanjeet Kumar Sah\n",
      "Nikhil Patil\n",
      "Aman Tiwari 🐯\n"
     ]
    }
   ],
   "source": [
    "from twitter_followers import *\n",
    "followers = get_twitter_followers(\"Tejas_sb\")\n",
    "for x in followers:\n",
    "    print(x)"
   ]
  },
  {
   "cell_type": "code",
   "execution_count": 10,
   "metadata": {},
   "outputs": [
    {
     "data": {
      "text/plain": [
       "{'nikhil patil'}"
      ]
     },
     "execution_count": 10,
     "metadata": {},
     "output_type": "execute_result"
    }
   ],
   "source": [
    "#Comparing friendlist and twitter followers\n",
    "friend = get_friends()\n",
    "set([x.lower() for x,y in friend]).intersection(set([f.lower() for f in followers]))"
   ]
  },
  {
   "cell_type": "code",
   "execution_count": 35,
   "metadata": {
    "collapsed": true
   },
   "outputs": [],
   "source": []
  },
  {
   "cell_type": "markdown",
   "metadata": {},
   "source": [
    "### Social Engineering with E-Mail"
   ]
  },
  {
   "cell_type": "code",
   "execution_count": 3,
   "metadata": {},
   "outputs": [],
   "source": [
    "send_mail(\"wbbipucxrwzphbwm\",\"atharvabarve24@gmail.com\")"
   ]
  },
  {
   "cell_type": "code",
   "execution_count": null,
   "metadata": {
    "collapsed": true
   },
   "outputs": [],
   "source": []
  }
 ],
 "metadata": {
  "kernelspec": {
   "display_name": "Python 3",
   "language": "python",
   "name": "python3"
  },
  "language_info": {
   "codemirror_mode": {
    "name": "ipython",
    "version": 3
   },
   "file_extension": ".py",
   "mimetype": "text/x-python",
   "name": "python",
   "nbconvert_exporter": "python",
   "pygments_lexer": "ipython3",
   "version": "3.7.4"
  }
 },
 "nbformat": 4,
 "nbformat_minor": 2
}
