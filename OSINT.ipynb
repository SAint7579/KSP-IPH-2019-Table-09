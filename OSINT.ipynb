{
 "cells": [
  {
   "cell_type": "code",
   "execution_count": null,
   "metadata": {},
   "outputs": [],
   "source": [
    "import face_utils\n",
    "from time import sleep"
   ]
  },
  {
   "cell_type": "code",
   "execution_count": null,
   "metadata": {},
   "outputs": [],
   "source": [
    "import requests\n",
    "import re\n",
    "from selenium import webdriver\n",
    "from selenium.common.exceptions import TimeoutException\n",
    "from selenium.webdriver.common.by import By\n",
    "from selenium.webdriver.support.wait import WebDriverWait\n",
    "from selenium.webdriver.support import expected_conditions as EC\n",
    "import time\n",
    "\n",
    "def get_links(subject_name):\n",
    "    header = {\"User-Agent\": \"Mozilla/5.0 (X11; Linux x86_64; rv:70.0) Gecko/20100101 Firefox/70.0\",\"Cookie\": 'sb=ufgMXRKi5bcIfSSMaIelRh5G; datr=ufgMXdM8hrLb-psr4lJbZwMo; c_user=100004912332911; xs=33%3AnSUFMmc3rtO1kg%3A2%3A1569653696%3A15717%3A8272; spin=r.1001436623_b.trunk_t.1573795693_s.1_v.2_; fr=0WfA239LUIWQj54ZH.AWX55JfOK3_vBs2e71NqKaucnlE.Bc8pR5.Ea.AAA.0.0.Bdz4xe.AWVLIfVN; presence=EDvF3EtimeF1573883961EuserFA21B04912332911A2EstateFDt3F_5bDiFA2user_3a1B07388262849A2EoF1EfF1C_5dEutc3F1573730942948G573883961180CEchFDp_5f1B04912332911F1CC; wd=616x657; act=1573884013894%2F10'}\n",
    "    htm = requests.get(\"https://www.facebook.com/search/people/?q=\"+subject_name,headers = header)\n",
    "    profiles = list()\n",
    "    for a in re.findall(r'<a title=\"[A-Za-z0-9 ]+\" class=\"_32mo\" .*?>',str(htm.content)) :\n",
    "        profiles.append((a.split('\"')[1], a.split('\"')[5]))\n",
    "\n",
    "    return profiles\n",
    "\n",
    "chrome_options = webdriver.ChromeOptions()\n",
    "prefs = {\"profile.default_content_setting_values.notifications\" : 2}\n",
    "chrome_options.add_experimental_option(\"prefs\",prefs)\n",
    "# chrome_options.add_argument(\"--headless\")\n",
    "\n",
    "driver = webdriver.Chrome(\"/home/archer/Documents/OSINT_India_Police_Hackathon/chromedriver\",chrome_options=chrome_options)\n",
    "driver.maximize_window()\n",
    "print(\"Logging in....\")\n",
    "driver.get(\"https://www.facebook.com/siddharth.mahajan.79\")\n",
    "element = driver.find_element_by_id(\"email\")\n",
    "element.send_keys(FBEMAIL)\n",
    "element = driver.find_element_by_id(\"pass\")\n",
    "element.send_keys(FBPASS)\n",
    "element = driver.find_element_by_id(\"loginbutton\")\n",
    "element.click()\n",
    "print(\"Logged in....\")\n",
    "\n",
    "def fetch_screen(name):\n",
    "    profiles = get_links(name)[:5]\n",
    "    count = 1\n",
    "    linkandpic = []\n",
    "    for name,link in profiles:\n",
    "        print(\"Fetching profile \",count)\n",
    "        driver.get(link)\n",
    "        driver.find_element_by_xpath(\"//*[@data-tab-key='photos']\").click()\n",
    "        imct=1\n",
    "        driver.execute_script(\"window.scrollTo(0, 500)\")\n",
    "        linkandpic.append([link,[]])\n",
    "        while imct<=2:\n",
    "            time.sleep(2.5)\n",
    "            fname=\"Screenshot/\"+str(count)+\"_\"+str(imct)+\".png\"\n",
    "            driver.save_screenshot(fname)\n",
    "            linkandpic[-1][1].append(fname)\n",
    "            driver.execute_script(\"window.scrollTo(500,1000)\")\n",
    "            imct+=1\n",
    "        count +=1\n",
    "    return linkandpic"
   ]
  },
  {
   "cell_type": "code",
   "execution_count": 35,
   "metadata": {},
   "outputs": [
    {
     "name": "stdout",
     "output_type": "stream",
     "text": [
      "Fetching profile  1\n",
      "Fetching profile  2\n",
      "Fetching profile  3\n",
      "Fetching profile  4\n",
      "Fetching profile  5\n"
     ]
    }
   ],
   "source": [
    "lnpc=fetch_screen(\"Siddharth Mahajan\")"
   ]
  },
  {
   "cell_type": "code",
   "execution_count": 36,
   "metadata": {},
   "outputs": [],
   "source": [
    "recs=[]\n",
    "for i in lnpc:\n",
    "    recs.append(i[1])"
   ]
  },
  {
   "cell_type": "code",
   "execution_count": 37,
   "metadata": {},
   "outputs": [],
   "source": [
    "import importlib"
   ]
  },
  {
   "cell_type": "code",
   "execution_count": 38,
   "metadata": {},
   "outputs": [
    {
     "name": "stdout",
     "output_type": "stream",
     "text": [
      "['TARGET', 'TARGET', 'TARGET', 'TARGET', 'Unknown', 'TARGET', 'Unknown', 'TARGET', 'TARGET', 'TARGET', 'TARGET']\n",
      "[]\n",
      "['Unknown']\n",
      "[]\n",
      "[]\n"
     ]
    }
   ],
   "source": [
    "pidx=face_utils.count_targets([\"sid.jpg\"],recs)"
   ]
  },
  {
   "cell_type": "code",
   "execution_count": 9,
   "metadata": {},
   "outputs": [
    {
     "name": "stdout",
     "output_type": "stream",
     "text": [
      "Profile Link: https://www.facebook.com/siddharth.mahajan.79\n"
     ]
    }
   ],
   "source": [
    "profile_link=lnpc[pidx][0].split(\"?ref\")[0]\n",
    "print(\"Profile Link:\",profile_link)"
   ]
  },
  {
   "cell_type": "code",
   "execution_count": 10,
   "metadata": {},
   "outputs": [
    {
     "name": "stdout",
     "output_type": "stream",
     "text": [
      "Username: siddharth.mahajan.79\n"
     ]
    }
   ],
   "source": [
    "username=profile_link.split(\"facebook.com/\")[1]\n",
    "print(\"Username:\",username)"
   ]
  },
  {
   "cell_type": "code",
   "execution_count": 11,
   "metadata": {},
   "outputs": [],
   "source": [
    "sections = {\n",
    "    'photo_url': {'src':'//div[@id=\"objects_container\"]//a/img[@alt][1]'},\n",
    "    'tagline': {'txt':'//*[@id=\"root\"]/div[1]/div[1]/div[2]/div[2]'},\n",
    "    'about': {'txt':'//div[@id=\"bio\"]/div/div[2]/div'},\n",
    "    'quotes': {'txt':'//*[@id=\"quote\"]/div/div[2]/div'},\n",
    "    'rel': {'txt':'//div[@id=\"relationship\"]/div/div[2]'},\n",
    "    'rel_partner': {'href':'//div[@id=\"relationship\"]/div/div[2]//a'},\n",
    "    'details': {'table':'(//div[2]/div//div[@title]//'},\n",
    "    'work': {'workedu':'//*[@id=\"work\"]/div[1]/div[2]/div'},\n",
    "    'education': {'workedu':'//*[@id=\"education\"]/div[1]/div[2]/div'},\n",
    "    'family': {'fam':'//*[@id=\"family\"]/div/div[2]/div'},\n",
    "    'life_events': {'years':'(//div[@id=\"year-overviews\"]/div[1]/div[2]/div[1]/div/div[1])'}\n",
    "}\n",
    "driver.get(\"https://mbasic.facebook.com/\"+username+\"/about\")\n",
    "name=driver.find_element_by_xpath('/html/body/div/div/div[2]/div/div[1]/div[1]/div[2]/div[1]/span/div/span/strong')\n",
    "d = {'name': name.text}\n",
    "x = driver.find_element_by_xpath\n",
    "xs = driver.find_elements_by_xpath\n",
    "for k,v in sections.items():\n",
    "    try:\n",
    "        if 'src' in v:\n",
    "            d[str(k)] = x(v['src']).get_attribute('src')\n",
    "        elif 'txt' in v:\n",
    "            d[str(k)] = x(v['txt']).text\n",
    "        elif 'href' in v:\n",
    "            d[str(k)] = x(v['href']).get_attribute('href')[8:].split('?')[0]\n",
    "        elif 'table' in v:\n",
    "            d['details'] = []\n",
    "            rows = xs(v['table']+'td[1])')\n",
    "            for i in range (1, len(rows)+1):\n",
    "                deets_key = x(v['table']+'td[1])'+'['+str(i)+']').text\n",
    "                deets_val = x(v['table']+'td[2])'+'['+str(i)+']').text\n",
    "                d['details'].append({deets_key:deets_val})\n",
    "        elif 'workedu' in v:\n",
    "            d[str(k)] = []\n",
    "            base = v['workedu']\n",
    "            rows = xs(base)\n",
    "            for i in range (1, len(rows)+1):\n",
    "                dd = {}\n",
    "                dd['link'] = x(base+'['+str(i)+']'+'/div/div[1]//a').get_attribute('href')[8:].split('&')[0].split('/')[0]\n",
    "                dd['org'] = x(base+'['+str(i)+']'+'/div/div[1]//a').text\n",
    "                dd['lines'] = []\n",
    "                lines = xs(base+'['+str(i)+']'+'/div/div[1]/div')\n",
    "                for l in range (2, len(lines)+1):\n",
    "                    line = x(base+'['+str(i)+']'+'/div/div[1]/div'+'['+str(l)+']').text\n",
    "                    dd['lines'].append(line)\n",
    "                d[str(k)].append(dd)\n",
    "        elif 'fam' in v:\n",
    "            d[str(k)] = []\n",
    "            base = v['fam']\n",
    "            rows = xs(base)\n",
    "            for i in range (1, len(rows)+1):\n",
    "                d[str(k)].append({\n",
    "                    'name': x(base+'['+str(i)+']'+'//h3[1]').text,\n",
    "                    'rel': x(base+'['+str(i)+']'+'//h3[2]').text,\n",
    "                    'alias': x(base+'['+str(i)+']'+'//h3[1]/a').get_attribute('href')[8:].split('?')[0]\n",
    "                })\n",
    "        elif 'life_events' in k:\n",
    "            d[str(k)] = []\n",
    "            base = v['years']\n",
    "            years = xs(base)\n",
    "            for i in range (1,len(years)+1):\n",
    "                year = x(base+'['+str(i)+']'+'/div[1]').text\n",
    "                events = xs(base+'['+str(i)+']'+'/div/div/a')\n",
    "                for e in range(1,len(events)+1):\n",
    "                    event = x('('+base+'['+str(i)+']'+'/div/div/a)'+'['+str(e)+']')\n",
    "                    d[str(k)].append({\n",
    "                        'year': year,\n",
    "                        'title': event.text,\n",
    "                        'link': event.get_attribute('href')[8:].split('refid')[0]\n",
    "                    })\n",
    "    except Exception:\n",
    "        pass"
   ]
  },
  {
   "cell_type": "code",
   "execution_count": 11,
   "metadata": {},
   "outputs": [
    {
     "name": "stdout",
     "output_type": "stream",
     "text": [
      "NAME : Siddharth Mahajan\n",
      "PHOTO_URL : https://scontent.fhyd12-1.fna.fbcdn.net/v/t1.0-1/cp0/e15/q65/c0.0.74.74a/p74x74/50047032_2267573016832285_427191015061848064_o.jpg?_nc_cat=101&efg=eyJpIjoiYiJ9&_nc_oc=AQk2BRau_Ft6atFsDyYdmLxSn9Vc1C7xFlCFxsWR5_wdoAZjrYDEORMwp_BmPiwKf9g&_nc_ht=scontent.fhyd12-1.fna&oh=e6fd3417c81c959460f798e4af288ff2&oe=5E4A186E\n",
      "TAGLINE : The BIG Bang Theory FAN 🔥🔥 , CAMILA CABELLO FAN 🔥🔥, MALUMA FAN🔥🔥!!\n",
      "..LIFE IS A GARDEN, DIG IT!!\n",
      "REL : Single\n",
      "DETAILS : \n",
      "\t CURRENT CITY : Jammu\n",
      "\t MOVED IN 2010 : Mumbai, Maharashtra\n",
      "\t HOME TOWN : Jammu\n",
      "\t FACEBOOK : /siddharth.mahajan.79\n",
      "\t BIRTHDAY : 24 March 1999\n",
      "\t GENDER : Male\n",
      "WORK : \n",
      "\t LINK : mbasic.facebook.com\n",
      "\t ORG : MIT World Peace University\n",
      "\t LINES : ['Studying', '22 July 2017 - Present', 'Pune, Maharashtra']\n",
      "\t LINK : mbasic.facebook.com\n",
      "\t ORG : jodhamal public school,jammu\n",
      "\t LINES : ['Student', '12 April 2005 - Present']\n",
      "EDUCATION : \n",
      "\t LINK : mbasic.facebook.com\n",
      "\t ORG : jodhamal public school\n",
      "\t LINES : ['High School']\n",
      "\t LINK : mbasic.facebook.com\n",
      "\t ORG : S.P. Smart Hr. Sec. School ; Kachi Chawni Jammu\n",
      "\t LINES : ['High School', 'March 2015 - 2018']\n",
      "FAMILY : \n",
      "\t NAME : Tanvi Gupta Sethi\n",
      "\t REL : Cousin\n",
      "\t ALIAS : mbasic.facebook.com/tanvi.gupta.7927\n",
      "LIFE_EVENTS : \n",
      "\t YEAR : 2018\n",
      "\t TITLE : Left S.P. Smart Hr. Sec. School ; Kachi Chawni Jammu\n",
      "\t LINK : mbasic.facebook.com/siddharth.mahajan.79/timeline/story?ut=32&wstart=-2051193600&wend=2147483647&hash=1660285380894388&pagefilter=3\n",
      "\t YEAR : 2017\n",
      "\t TITLE : Started new job at MIT World Peace University\n",
      "\t LINK : mbasic.facebook.com/siddharth.mahajan.79/timeline/story?ut=32&wstart=-2051193600&wend=2147483647&hash=2201172400139014&pagefilter=3&ustart=1\n",
      "\t YEAR : 2015\n",
      "\t TITLE : Started studying at S.P. Smart Hr. Sec. School ; Kachi Chawni Jammu\n",
      "\t LINK : mbasic.facebook.com/siddharth.mahajan.79/timeline/story?ut=32&wstart=-2051193600&wend=2147483647&hash=1660285380894388&pagefilter=3&ustart=1\n",
      "\t YEAR : 2010\n",
      "\t TITLE : Moved to Mumbai, Maharashtra\n",
      "\t LINK : mbasic.facebook.com/100007388262849/posts/1429542737301988/\n",
      "\t YEAR : 2008\n",
      "\t TITLE : Travelled to Washington D.C.\n",
      "\t LINK : mbasic.facebook.com/100007388262849/posts/1429542593968669/\n",
      "\t YEAR : 2007\n",
      "\t TITLE : First flight\n",
      "\t LINK : mbasic.facebook.com/100007388262849/posts/1511561509100110/\n",
      "\t YEAR : 2005\n",
      "\t TITLE : Started new job at jodhamal public school,jammu\n",
      "\t LINK : mbasic.facebook.com/siddharth.mahajan.79/timeline/story?ut=32&wstart=-2051193600&wend=2147483647&hash=1429538323969096&pagefilter=3&ustart=1\n"
     ]
    }
   ],
   "source": [
    "for key in d.keys():\n",
    "    print(key.upper(),\": \",end=\"\")\n",
    "    if type(d[key]) is list:\n",
    "        print(\"\\n\",end=\"\")\n",
    "        for itm in d[key]:\n",
    "            if type(itm) is dict:\n",
    "                for kff in itm.keys():\n",
    "                    print(\"\\t\",kff.upper(),\":\",itm[kff])\n",
    "    else:\n",
    "        print(d[key])"
   ]
  },
  {
   "cell_type": "code",
   "execution_count": null,
   "metadata": {},
   "outputs": [],
   "source": []
  },
  {
   "cell_type": "code",
   "execution_count": null,
   "metadata": {},
   "outputs": [],
   "source": []
  },
  {
   "cell_type": "code",
   "execution_count": 1,
   "metadata": {},
   "outputs": [],
   "source": [
    "from twitter import *\n",
    "import requests"
   ]
  },
  {
   "cell_type": "code",
   "execution_count": 2,
   "metadata": {},
   "outputs": [],
   "source": [
    "twitter_consumer_key = APPROPRIATE_TWITTER_KEYS\n",
    "twitter_consumer_secret = APPROPRIATE_TWITTER_KEYS\n",
    "twitter_access_token = APPROPRIATE_TWITTER_KEYS\n",
    "twitter_access_secret = APPROPRIATE_TWITTER_KEYS"
   ]
  },
  {
   "cell_type": "code",
   "execution_count": 3,
   "metadata": {
    "scrolled": true
   },
   "outputs": [],
   "source": [
    "tpi=Twitter(auth=OAuth(twitter_access_token,twitter_access_secret,twitter_consumer_key,twitter_consumer_secret))"
   ]
  },
  {
   "cell_type": "code",
   "execution_count": 4,
   "metadata": {},
   "outputs": [],
   "source": [
    "res=tpi.statuses.user_timeline(screen_name=\"RahulGandhi\",count=50)"
   ]
  },
  {
   "cell_type": "code",
   "execution_count": 5,
   "metadata": {},
   "outputs": [],
   "source": [
    "import os\n",
    "import re\n",
    "import json\n",
    "from bs4 import BeautifulSoup\n",
    "from urllib.parse import quote,unquote\n",
    "from html import unescape"
   ]
  },
  {
   "cell_type": "code",
   "execution_count": 6,
   "metadata": {},
   "outputs": [
    {
     "data": {
      "text/plain": [
       "'Modinomics stinks so bad, the Govt has to hide its own reports.'"
      ]
     },
     "execution_count": 6,
     "metadata": {},
     "output_type": "execute_result"
    }
   ],
   "source": [
    "query=res[0]['text'][:-24]\n",
    "query"
   ]
  },
  {
   "cell_type": "code",
   "execution_count": 9,
   "metadata": {},
   "outputs": [],
   "source": [
    "with open(\"curlcmd\",\"r\") as f:\n",
    "    ccmd=f.read()\n",
    "rcmd=ccmd.replace(\"REPLACEME\",quote(query))\n",
    "anl=os.popen(rcmd).read()"
   ]
  },
  {
   "cell_type": "code",
   "execution_count": 10,
   "metadata": {},
   "outputs": [],
   "source": [
    "soup=BeautifulSoup(anl)\n",
    "f=soup.find('pre').get_text()\n",
    "df=json.loads(f)"
   ]
  },
  {
   "cell_type": "code",
   "execution_count": 11,
   "metadata": {},
   "outputs": [
    {
     "name": "stdout",
     "output_type": "stream",
     "text": [
      "LANG:\t English\n",
      "KeyPhrases:\t ['Govt', 'Modinomics stinks', 'reports']\n",
      "Sentiment Score: 0.018424302339553833\n",
      "NAME : Narendra Modi\n",
      "MATCHES : [{'text': 'Modinomics', 'offset': 0, 'length': 10}]\n",
      "WIKIPEDIALANGUAGE : en\n",
      "WIKIPEDIAID : Narendra Modi\n",
      "WIKIPEDIAURL : https://en.wikipedia.org/wiki/Narendra_Modi\n",
      "BINGID : 04fee623-e9bd-ee4b-f30d-cad3c29199e4\n",
      "TYPE : Person\n",
      "SUBTYPE : None\n",
      "NAME : Government\n",
      "MATCHES : [{'text': 'Govt', 'offset': 30, 'length': 4}]\n",
      "WIKIPEDIALANGUAGE : en\n",
      "WIKIPEDIAID : Government\n",
      "WIKIPEDIAURL : https://en.wikipedia.org/wiki/Government\n",
      "BINGID : 5634d914-4190-dd0b-fa80-715c2ac46335\n",
      "TYPE : Other\n",
      "SUBTYPE : None\n"
     ]
    }
   ],
   "source": [
    "def disptextAnalytics(df):\n",
    "    for lng in df['languageDetection']['documents'][0]['detectedLanguages']:\n",
    "        print(\"LANG:\\t\",lng['name'])\n",
    "    for kp in df['keyPhrases']['documents']:\n",
    "        print(\"KeyPhrases:\\t\",kp['keyPhrases'])\n",
    "    print(\"Sentiment Score:\",df['sentiment']['documents'][0]['score'])\n",
    "    for ent in df['entities']['documents'][0]['entities']:\n",
    "        for key in ent.keys():\n",
    "            print(key.upper(),\":\",ent[key])\n",
    "disptextAnalytics(df)"
   ]
  },
  {
   "cell_type": "code",
   "execution_count": 15,
   "metadata": {},
   "outputs": [],
   "source": [
    "from threading import Thread\n",
    "from time import sleep"
   ]
  },
  {
   "cell_type": "code",
   "execution_count": 16,
   "metadata": {
    "scrolled": true
   },
   "outputs": [
    {
     "name": "stdout",
     "output_type": "stream",
     "text": [
      " 7\n",
      "Fix request headers !\n",
      " 9\n",
      "Fix request headers !\n",
      " 13\n",
      "Fix request headers !\n",
      " 36\n",
      "Fix request headers !\n",
      " 50"
     ]
    }
   ],
   "source": [
    "neg=pos=neut=0\n",
    "kphrases=[]\n",
    "\n",
    "def textApiThread(r,inrecur=False):\n",
    "    global pos,neg,neut\n",
    "    query=unescape(r)\n",
    "    rcmd=ccmd.replace(\"REPLACEME\",quote(query))\n",
    "    anl=os.popen(rcmd).read()\n",
    "    soup=BeautifulSoup(anl)\n",
    "    try:\n",
    "        f=soup.find('pre')\n",
    "        if f is None:\n",
    "            print(\"\\nFix request headers !\")\n",
    "            return\n",
    "        df=json.loads(f.get_text())\n",
    "        snt=float(df['sentiment']['documents'][0]['score'])\n",
    "        if snt<0.4:\n",
    "            neg+=1\n",
    "        elif snt>0.6:\n",
    "            pos+=1\n",
    "        else:\n",
    "            neut+=1\n",
    "        for kp in df['keyPhrases']['documents']:\n",
    "            for kk in kp['keyPhrases']:\n",
    "                kphrases.append(kk)\n",
    "#         disptextAnalytics(df)\n",
    "    except Exception:\n",
    "        pass\n",
    "\n",
    "thrds=[]\n",
    "def textApi(res):\n",
    "    for idx,r in enumerate(res):\n",
    "        print('\\r',idx+1,end=\"\")\n",
    "        thrds.append(Thread(target=textApiThread,args=(r['text'][:-24],)))\n",
    "        thrds[-1].setDaemon(True)\n",
    "        thrds[-1].start()\n",
    "        sleep(0.5)\n",
    "    for t in thrds:\n",
    "        t.join()\n",
    "        \n",
    "textApi(res)"
   ]
  },
  {
   "cell_type": "code",
   "execution_count": 17,
   "metadata": {},
   "outputs": [],
   "source": [
    "import matplotlib.pyplot as plt"
   ]
  },
  {
   "cell_type": "code",
   "execution_count": 18,
   "metadata": {},
   "outputs": [
    {
     "data": {
      "image/png": "[encoded data removed]",
      "text/plain": [
       "<Figure size 432x288 with 1 Axes>"
      ]
     },
     "metadata": {
      "needs_background": "light"
     },
     "output_type": "display_data"
    }
   ],
   "source": [
    "p=plt.bar(['+ve','neut','-ve'],height=[pos,neut,neg])\n",
    "p[0].set_color('#27ae60')\n",
    "p[1].set_color('#f1c40f')\n",
    "p[2].set_color('#e74c3c')"
   ]
  },
  {
   "cell_type": "code",
   "execution_count": 19,
   "metadata": {},
   "outputs": [],
   "source": [
    "kpdt=dict.fromkeys(kphrases,0)"
   ]
  },
  {
   "cell_type": "code",
   "execution_count": 20,
   "metadata": {},
   "outputs": [],
   "source": [
    "for kp in kphrases:\n",
    "    kpdt[kp]+=1"
   ]
  },
  {
   "cell_type": "code",
   "execution_count": 21,
   "metadata": {
    "scrolled": true
   },
   "outputs": [
    {
     "data": {
      "text/plain": [
       "[('PM', 4),\n",
       " ('Govt', 2),\n",
       " ('time', 2),\n",
       " ('public meeting', 2),\n",
       " ('Haryana', 2),\n",
       " ('public meetings', 2),\n",
       " ('Maharashtra', 2),\n",
       " ('Wayanad', 2),\n",
       " ('solidarity', 2),\n",
       " ('youth', 2),\n",
       " ('Modinomics stinks', 1),\n",
       " ('reports', 1),\n",
       " ('huge door', 1),\n",
       " ('Supreme Court', 1),\n",
       " ('investigation', 1),\n",
       " ('RAFALE scam', 1),\n",
       " ('Justice Joseph', 1),\n",
       " ('statesman', 1),\n",
       " ('Pandit Jawaharlal Nehru Ji', 1),\n",
       " ('visionary', 1),\n",
       " ('scholar', 1),\n",
       " ('birth anniversary', 1),\n",
       " ('Election Commissioners', 1),\n",
       " ('Shri', 1),\n",
       " ('Demonetisation terror attack', 1),\n",
       " ('Indian economy', 1),\n",
       " ('yrs', 1),\n",
       " ('lives', 1),\n",
       " ('Modi Minar races', 1),\n",
       " ('breathtaking pace', 1),\n",
       " ('passing month', 1),\n",
       " ('monument', 1),\n",
       " ('incompetence', 1),\n",
       " ('worth of goods', 1),\n",
       " ('Indian', 1),\n",
       " ('year', 1),\n",
       " ('Rs', 1),\n",
       " ('Realpolit', 1),\n",
       " ('Pegasus', 1),\n",
       " ('Indian citizens', 1),\n",
       " ('WhatsAop’s response', 1),\n",
       " ('Modi', 1),\n",
       " ('Dassault', 1),\n",
       " ('passing of baby Sujith', 1),\n",
       " ('condolences', 1),\n",
       " ('grieving parents', 1),\n",
       " ('Indian MPs', 1),\n",
       " ('Kashmir', 1),\n",
       " ('guided tour of Jammu', 1),\n",
       " ('Europe', 1),\n",
       " ('entry', 1),\n",
       " ('Tamil Nadu', 1),\n",
       " ('race', 1),\n",
       " ('Deepavali', 1),\n",
       " ('baby Surjeeth', 1),\n",
       " ('nation', 1),\n",
       " ('दीपावली की हार्दि', 1),\n",
       " ('peace', 1),\n",
       " ('happiness', 1),\n",
       " ('HappyDeepavali', 1),\n",
       " ('Step', 1),\n",
       " ('Mega Losses', 1),\n",
       " ('Crony Capitalist', 1),\n",
       " ('BsnlMtnlMerger', 1),\n",
       " ('CONCOR', 1),\n",
       " ('Container Corporation', 1),\n",
       " ('PSU jewel', 1),\n",
       " (\"PM's greedy crony\", 1),\n",
       " ('honest man', 1),\n",
       " ('BJP', 1),\n",
       " ('hatred', 1),\n",
       " ('idea', 1),\n",
       " ('Dear Mr Banerjee', 1),\n",
       " ('bigots', 1),\n",
       " ('professional', 1),\n",
       " ('severe distress', 1),\n",
       " ('Rural India', 1),\n",
       " ('FM', 1),\n",
       " ('economy', 1),\n",
       " ('GovtIsClueless', 1),\n",
       " ('Mahendragarh', 1),\n",
       " ('GlobalHungerIndex ranking', 1),\n",
       " ('ranking reveals', 1),\n",
       " ('India’s', 1),\n",
       " ('schedule', 1),\n",
       " ('graphic', 1),\n",
       " ('als', 1),\n",
       " ('AbhijitBanerjee', 1),\n",
       " ('Nobel Prize', 1),\n",
       " ('NYAY t', 1),\n",
       " ('Economics', 1),\n",
       " ('Congratulations', 1),\n",
       " ('Marora Ground', 1),\n",
       " ('District Nuh', 1),\n",
       " ('Mumbai', 1),\n",
       " ('Ausa', 1),\n",
       " ('Chandivali', 1),\n",
       " ('Latur', 1),\n",
       " ('Dharavi', 1),\n",
       " ('hearing', 1),\n",
       " ('Ahmedabad', 1),\n",
       " ('motivated case', 1),\n",
       " ('Surat', 1),\n",
       " ('evil', 1),\n",
       " ('eventual triumph of good', 1),\n",
       " ('universal truth', 1),\n",
       " ('belief', 1),\n",
       " ('short video', 1),\n",
       " ('highlights', 1),\n",
       " ('inte', 1),\n",
       " ('members', 1),\n",
       " ('press', 1),\n",
       " ('hunger strike', 1),\n",
       " ('Kerala', 1),\n",
       " ('Mahatma Gandhi Ji', 1),\n",
       " ('Father', 1),\n",
       " ('tributes', 1),\n",
       " ('Jayanti', 1),\n",
       " ('words', 1),\n",
       " ('Nation', 1),\n",
       " ('deeds', 1),\n",
       " ('fawning endorsement', 1),\n",
       " ('serious problems', 1),\n",
       " ('Mr Jaishankar', 1),\n",
       " ('PM’s incompetence', 1),\n",
       " ('interests of local communities', 1),\n",
       " ('State Governments', 1),\n",
       " ('colle', 1),\n",
       " ('indefinite hunger strike', 1),\n",
       " ('protesting', 1),\n",
       " ('dai', 1),\n",
       " ('latest Opposition leader', 1),\n",
       " ('Sharad Pawar Ji', 1),\n",
       " ('vindictive Government', 1),\n",
       " ('timing', 1),\n",
       " ('actio', 1),\n",
       " ('dedication', 1),\n",
       " ('Dr Manmohan Singh Ji’s selfless service', 1),\n",
       " ('incredible contribution t', 1),\n",
       " ('birthday', 1),\n",
       " ('right', 1),\n",
       " ('Lakh CA students', 1),\n",
       " ('exam papers', 1),\n",
       " ('India', 1),\n",
       " ('ICAI', 1),\n",
       " ('Giv', 1),\n",
       " ('stock market bump', 1),\n",
       " ('HowdyIndianEconomy jamboree', 1),\n",
       " ('Lakh Cro', 1)]"
      ]
     },
     "execution_count": 21,
     "metadata": {},
     "output_type": "execute_result"
    }
   ],
   "source": [
    "sorted(kpdt.items(), key=lambda x: x[1], reverse=True)"
   ]
  },
  {
   "cell_type": "code",
   "execution_count": null,
   "metadata": {},
   "outputs": [],
   "source": []
  },
  {
   "cell_type": "code",
   "execution_count": 39,
   "metadata": {},
   "outputs": [],
   "source": [
    "proxies = {'http': \"socks5://127.0.0.1:9050\"}"
   ]
  },
  {
   "cell_type": "code",
   "execution_count": null,
   "metadata": {},
   "outputs": [],
   "source": [
    "r=requests.get(\"http://hss3uro2hsxfogfq.onion/index.php?q=gandhi\",proxies=proxies)"
   ]
  },
  {
   "cell_type": "code",
   "execution_count": null,
   "metadata": {},
   "outputs": [],
   "source": []
  }
 ],
 "metadata": {
  "kernelspec": {
   "display_name": "Python 3",
   "language": "python",
   "name": "python3"
  },
  "language_info": {
   "codemirror_mode": {
    "name": "ipython",
    "version": 3
   },
   "file_extension": ".py",
   "mimetype": "text/x-python",
   "name": "python",
   "nbconvert_exporter": "python",
   "pygments_lexer": "ipython3",
   "version": "3.7.4"
  }
 },
 "nbformat": 4,
 "nbformat_minor": 2
}
